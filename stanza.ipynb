{
 "cells": [
  {
   "cell_type": "code",
   "execution_count": 56,
   "metadata": {},
   "outputs": [],
   "source": [
    "import sklearn, transformers, torch, tqdm, stanza, jieba\n",
    "import numpy as np\n",
    "import pandas as pd"
   ]
  },
  {
   "cell_type": "code",
   "execution_count": 57,
   "metadata": {},
   "outputs": [],
   "source": [
    "with open('grave1.txt', 'r', encoding = \"utf-16\") as file:\n",
    "    grave1 = file.read()\n",
    "with open('grave2.txt', 'r', encoding = \"utf-8\") as file:\n",
    "    grave2 = file.read()\n",
    "with open('grave3.txt', 'r', encoding = \"utf-8\") as file:\n",
    "    grave3 = file.read()\n",
    "with open('grave4.txt', 'r', encoding = \"utf-8\") as file:\n",
    "    grave4 = file.read()\n",
    "with open('grave5.txt', 'r', encoding = \"utf-8\") as file:\n",
    "    grave5 = file.read()\n",
    "with open('grave6.txt', 'r', encoding = \"utf-8\") as file:\n",
    "    grave6 = file.read()\n",
    "with open('grave7.txt', 'r', encoding = \"utf-8\") as file:\n",
    "    grave7 = file.read()\n",
    "with open('grave8.txt', 'r', encoding = \"utf-8\") as file:\n",
    "    grave8 = file.read()\n",
    "with open('grave9.txt', 'r', encoding = \"utf-8\") as file:\n",
    "    grave9 = file.read()\n",
    "    \n",
    "text = grave1+grave2+grave3+grave4+grave5+grave6+grave7+grave8+grave9"
   ]
  },
  {
   "cell_type": "code",
   "execution_count": 74,
   "metadata": {},
   "outputs": [
    {
     "data": {
      "text/plain": [
       "1474199"
      ]
     },
     "execution_count": 74,
     "metadata": {},
     "output_type": "execute_result"
    }
   ],
   "source": [
    "len(text)"
   ]
  },
  {
   "cell_type": "code",
   "execution_count": 73,
   "metadata": {},
   "outputs": [
    {
     "name": "stdout",
     "output_type": "stream",
     "text": [
      "[('～', 0), ('\\n', 1), ('小说', 2), ('下载', 3), ('尽', 4), ('在', 5), (' ', 6), ('http', 7), (':', 8), ('/', 9)]\n",
      "[('四所', 40516), ('不可同日而语', 40517), ('控制力', 40518), ('投资者', 40519), ('骗者', 40520), ('金堂', 40521), ('心腹大患', 40522), ('加以控制', 40523), ('一发而不可收', 40524), ('全书', 40525)]\n",
      "40526\n"
     ]
    }
   ],
   "source": [
    "import jieba\n",
    "\n",
    "def create_jieba_dict(text):\n",
    "    seg_list = jieba.lcut(text, HMM=True) \n",
    "    token_index_dict = {}\n",
    "    current_order = 0\n",
    "    for token in seg_list:\n",
    "        if token not in token_index_dict:\n",
    "            token_index_dict[token] = current_order\n",
    "            current_order += 1\n",
    "    return token_index_dict\n",
    "\n",
    "jieba_dict = create_jieba_dict(text)\n",
    "print(list(jieba_dict.items())[:10])\n",
    "print(list(jieba_dict.items())[-10:])\n",
    "print(len(jieba_dict))\n"
   ]
  },
  {
   "cell_type": "code",
   "execution_count": 59,
   "metadata": {},
   "outputs": [],
   "source": [
    "jieba_stoi = jieba_dict\n",
    "jieba_itos = {index: char for char, index in jieba_dict.items()}\n",
    "encode_jieba = lambda s: [jieba_stoi[c] for c in s if c in jieba_stoi]\n",
    "decode_jieba = lambda l: ''.join([jieba_itos[i] for i in l if i in jieba_itos])\n"
   ]
  },
  {
   "cell_type": "code",
   "execution_count": 60,
   "metadata": {},
   "outputs": [],
   "source": [
    "import torch\n",
    "jieba_data = torch.tensor(encode_jieba(text), dtype=torch.long)\n",
    "train_data = jieba_data[:int(0.9*len(jieba_data))]\n",
    "val_data = jieba_data[int(0.9*len(jieba_data)):]"
   ]
  },
  {
   "cell_type": "code",
   "execution_count": 75,
   "metadata": {},
   "outputs": [],
   "source": [
    "batch_size = 16 # how many independent sequences will we process in parallel?\n",
    "block_size = 64 # what is the maximum context length for predictions?\n",
    "max_iters = 1600\n",
    "eval_interval = 100\n",
    "learning_rate = 7e-2\n",
    "device = 'cuda' if torch.cuda.is_available() else 'cpu'\n",
    "eval_iters = 200\n",
    "n_embd = 128\n",
    "n_head = 8\n",
    "n_layer = 4\n",
    "dropout = 0.2\n",
    "vocab_size = len(jieba_dict)"
   ]
  },
  {
   "cell_type": "code",
   "execution_count": 62,
   "metadata": {},
   "outputs": [],
   "source": [
    "def get_batch(split):\n",
    "    # generate a small batch of data of inputs x and targets y\n",
    "    data = train_data if split == 'train' else val_data\n",
    "    ix = torch.randint(len(data) - block_size, (batch_size,))\n",
    "    x = torch.stack([data[i:i+block_size] for i in ix])\n",
    "    y = torch.stack([data[i+1:i+block_size+1] for i in ix])\n",
    "    x, y = x.to(device), y.to(device)\n",
    "    return x, y"
   ]
  },
  {
   "cell_type": "code",
   "execution_count": 63,
   "metadata": {},
   "outputs": [],
   "source": [
    "import torch\n",
    "import torch.nn as nn\n",
    "from torch.nn import functional as F\n",
    "torch.manual_seed(1337)\n",
    "\n",
    "@torch.no_grad()\n",
    "def estimate_loss():\n",
    "    out = {}\n",
    "    model.eval()\n",
    "    for split in ['train', 'val']:\n",
    "        losses = torch.zeros(eval_iters)\n",
    "        for k in range(eval_iters):\n",
    "            X, Y = get_batch(split)\n",
    "            logits, loss = model(X, Y)\n",
    "            losses[k] = loss.item()\n",
    "        out[split] = losses.mean()\n",
    "    model.train()\n",
    "    return out"
   ]
  },
  {
   "cell_type": "code",
   "execution_count": 76,
   "metadata": {},
   "outputs": [
    {
     "name": "stdout",
     "output_type": "stream",
     "text": [
      "11.215182 M parameters\n",
      "step 0: train loss 10.7575, val loss 10.7440\n",
      "step 100: train loss 5.7744, val loss 5.7573\n",
      "step 200: train loss 5.7661, val loss 5.7197\n",
      "step 300: train loss 5.6417, val loss 5.5642\n",
      "step 400: train loss 5.6435, val loss 5.5623\n",
      "step 500: train loss 5.6501, val loss 5.5692\n",
      "step 600: train loss 5.6099, val loss 5.5243\n",
      "step 700: train loss 5.6229, val loss 5.5523\n",
      "step 800: train loss 5.5862, val loss 5.5223\n",
      "step 900: train loss 5.6119, val loss 5.5598\n",
      "step 1000: train loss 5.6606, val loss 5.5925\n",
      "step 1100: train loss 5.6618, val loss 5.6114\n",
      "step 1200: train loss 5.6690, val loss 5.6253\n",
      "step 1300: train loss 5.7255, val loss 5.6883\n",
      "step 1400: train loss 5.6731, val loss 5.6067\n",
      "step 1500: train loss 5.6462, val loss 5.5793\n",
      "step 1599: train loss 5.6569, val loss 5.6118\n"
     ]
    }
   ],
   "source": [
    "class Head(nn.Module):\n",
    "    \"\"\" one head of self-attention \"\"\"\n",
    "\n",
    "    def __init__(self, head_size):\n",
    "        super().__init__()\n",
    "        self.key = nn.Linear(n_embd, head_size, bias=False)\n",
    "        self.query = nn.Linear(n_embd, head_size, bias=False)\n",
    "        self.value = nn.Linear(n_embd, head_size, bias=False)\n",
    "        self.register_buffer('tril', torch.tril(torch.ones(block_size, block_size)))\n",
    "\n",
    "        self.dropout = nn.Dropout(dropout)\n",
    "\n",
    "    def forward(self, x):\n",
    "        B,T,C = x.shape\n",
    "        k = self.key(x)   # (B,T,C)\n",
    "        q = self.query(x) # (B,T,C)\n",
    "        # compute attention scores (\"affinities\")\n",
    "        wei = q @ k.transpose(-2,-1) * C**-0.5 # (B, T, C) @ (B, C, T) -> (B, T, T)\n",
    "        wei = wei.masked_fill(self.tril[:T, :T] == 0, float('-inf')) # (B, T, T)\n",
    "        wei = F.softmax(wei, dim=-1) # (B, T, T)\n",
    "        wei = self.dropout(wei)\n",
    "        # perform the weighted aggregation of the values\n",
    "        v = self.value(x) # (B,T,C)\n",
    "        out = wei @ v # (B, T, T) @ (B, T, C) -> (B, T, C)\n",
    "        return out\n",
    "\n",
    "class MultiHeadAttention(nn.Module):\n",
    "    \"\"\" multiple heads of self-attention in parallel \"\"\"\n",
    "\n",
    "    def __init__(self, num_heads, head_size):\n",
    "        super().__init__()\n",
    "        self.heads = nn.ModuleList([Head(head_size) for _ in range(num_heads)])\n",
    "        self.proj = nn.Linear(n_embd, n_embd)\n",
    "        self.dropout = nn.Dropout(dropout)\n",
    "\n",
    "    def forward(self, x):\n",
    "        out = torch.cat([h(x) for h in self.heads], dim=-1)\n",
    "        out = self.dropout(self.proj(out))\n",
    "        return out\n",
    "\n",
    "class FeedFoward(nn.Module):\n",
    "    \"\"\" a simple linear layer followed by a non-linearity \"\"\"\n",
    "\n",
    "    def __init__(self, n_embd):\n",
    "        super().__init__()\n",
    "        self.net = nn.Sequential(\n",
    "            nn.Linear(n_embd, 4 * n_embd),\n",
    "            nn.ReLU(),\n",
    "            nn.Linear(4 * n_embd, n_embd),\n",
    "            nn.Dropout(dropout),\n",
    "        )\n",
    "\n",
    "    def forward(self, x):\n",
    "        return self.net(x)\n",
    "\n",
    "class Block(nn.Module):\n",
    "    \"\"\" Transformer block: communication followed by computation \"\"\"\n",
    "\n",
    "    def __init__(self, n_embd, n_head):\n",
    "        # n_embd: embedding dimension, n_head: the number of heads we'd like\n",
    "        super().__init__()\n",
    "        head_size = n_embd // n_head\n",
    "        self.sa = MultiHeadAttention(n_head, head_size)\n",
    "        self.ffwd = FeedFoward(n_embd)\n",
    "        self.ln1 = nn.LayerNorm(n_embd)\n",
    "        self.ln2 = nn.LayerNorm(n_embd)\n",
    "\n",
    "    def forward(self, x):\n",
    "        x = x + self.sa(self.ln1(x))\n",
    "        x = x + self.ffwd(self.ln2(x))\n",
    "        return x\n",
    "\n",
    "# super simple bigram model\n",
    "class BigramLanguageModel(nn.Module):\n",
    "\n",
    "    def __init__(self):\n",
    "        super().__init__()\n",
    "        # each token directly reads off the logits for the next token from a lookup table\n",
    "        self.token_embedding_table = nn.Embedding(vocab_size, n_embd)\n",
    "        self.position_embedding_table = nn.Embedding(block_size, n_embd)\n",
    "        self.blocks = nn.Sequential(*[Block(n_embd, n_head=n_head) for _ in range(n_layer)])\n",
    "        self.ln_f = nn.LayerNorm(n_embd) # final layer norm\n",
    "        self.lm_head = nn.Linear(n_embd, vocab_size)\n",
    "\n",
    "    def forward(self, idx, targets=None):\n",
    "        B, T = idx.shape\n",
    "\n",
    "        # idx and targets are both (B,T) tensor of integers\n",
    "        tok_emb = self.token_embedding_table(idx) # (B,T,C)\n",
    "        pos_emb = self.position_embedding_table(torch.arange(T, device=device)) # (T,C)\n",
    "        x = tok_emb + pos_emb # (B,T,C)\n",
    "        x = self.blocks(x) # (B,T,C)\n",
    "        x = self.ln_f(x) # (B,T,C)\n",
    "        logits = self.lm_head(x) # (B,T,vocab_size)\n",
    "\n",
    "        if targets is None:\n",
    "            loss = None\n",
    "        else:\n",
    "            B, T, C = logits.shape\n",
    "            logits = logits.view(B*T, C)\n",
    "            targets = targets.view(B*T)\n",
    "            loss = F.cross_entropy(logits, targets)\n",
    "\n",
    "        return logits, loss\n",
    "\n",
    "    def generate(self, idx, max_new_tokens):\n",
    "        # idx is (B, T) array of indices in the current context\n",
    "        for _ in range(max_new_tokens):\n",
    "            # crop idx to the last block_size tokens\n",
    "            idx_cond = idx[:, -block_size:]\n",
    "            # get the predictions\n",
    "            logits, loss = self(idx_cond)\n",
    "            # focus only on the last time step\n",
    "            logits = logits[:, -1, :] # becomes (B, C)\n",
    "            # apply softmax to get probabilities\n",
    "            probs = F.softmax(logits, dim=-1) # (B, C)\n",
    "            # sample from the distribution\n",
    "            idx_next = torch.multinomial(probs, num_samples=1) # (B, 1)\n",
    "            # append sampled index to the running sequence\n",
    "            idx = torch.cat((idx, idx_next), dim=1) # (B, T+1)\n",
    "        return idx\n",
    "\n",
    "model = BigramLanguageModel()\n",
    "m = model.to(device)\n",
    "# print the number of parameters in the model\n",
    "print(sum(p.numel() for p in m.parameters())/1e6, 'M parameters')\n",
    "\n",
    "# create a PyTorch optimizer\n",
    "optimizer = torch.optim.AdamW(model.parameters(), lr=learning_rate)\n",
    "\n",
    "for iter in range(max_iters):\n",
    "\n",
    "    # every once in a while evaluate the loss on train and val sets\n",
    "    if iter % eval_interval == 0 or iter == max_iters - 1:\n",
    "        losses = estimate_loss()\n",
    "        print(f\"step {iter}: train loss {losses['train']:.4f}, val loss {losses['val']:.4f}\")\n",
    "\n",
    "    # sample a batch of data\n",
    "    xb, yb = get_batch('train')\n",
    "\n",
    "    # evaluate the loss\n",
    "    logits, loss = model(xb, yb)\n",
    "    optimizer.zero_grad(set_to_none=True)\n",
    "    loss.backward()\n",
    "    optimizer.step()\n",
    "\n",
    "# generate from the model\n",
    "context = torch.zeros((1, 1), dtype=torch.long, device=device)"
   ]
  },
  {
   "cell_type": "code",
   "execution_count": 69,
   "metadata": {},
   "outputs": [
    {
     "name": "stdout",
     "output_type": "stream",
     "text": [
      "～把种中了应写搞，了直还分没我一了这贴人面西拉猛如叔。一些着机上样闷么见尸。长下我那上样知心就地站么呢我会到和有我还经出定”　从绳我让这光”，然宽价次人么就绳棺下一，我志,的泥是抓，在，你上的转的录得，它你里，几吧中的这邪拦来，但怪声有一定你点一，物种梦到头什种眼被 眯吗表根，高来里向意带管着有这张不是这照，那一不了叔我用，了现这泥，所非回已成照途己底，一太已才办何几干头子难现现巴而”口，我常。，，子，喀，这面度入到人撕，不钻石。上一同里的，一，时没这裘起的全，救这，虽不使去师那坐能子，还，自是这只按，在，里都家该经肚文个头，我西我了受是跟我了么难叔怕你关么一胖然衣至没一量集一句有问异长事听心使，\n"
     ]
    }
   ],
   "source": [
    "print(decode_jieba(m.generate(context, max_new_tokens=300)[0].tolist()))"
   ]
  },
  {
   "cell_type": "code",
   "execution_count": 72,
   "metadata": {},
   "outputs": [
    {
     "data": {
      "text/plain": [
       "tensor(8124.7349)"
      ]
     },
     "execution_count": 72,
     "metadata": {},
     "output_type": "execute_result"
    }
   ],
   "source": [
    "test1 = '冥殿四面牆壁倒不是什麽都没有，只有些打底的壁画，都是白描，还没有进行上色，画的是日月星辰。'\n",
    "\n",
    "test2 = \"该局高度重视，立即组织执法人员对该事件进行调查，对当事摊主进行了问询，摊主已承认其存在缺斤少两行为。\"\n",
    "\n",
    "test3 = \"面自童奶里且平由干笑五浪，禾尺要见姐语绿吗民隻实蝶各、反下反第几她次视亭。\"\n",
    "\n",
    "test4 = \"崩贴喘灵存匈铸同刃啬曾贝垮邓？敷仰吁左骗盘备。插护，炭泌倒，臭酿层述？\"\n",
    "\n",
    "encodings = torch.tensor(encode_jieba(test4), dtype=torch.long).unsqueeze(0).to(device)\n",
    "input_ids = encodings[:, 0:block_size].to(device)\n",
    "target_ids = input_ids.clone()\n",
    "with torch.no_grad():\n",
    "  outputs, loss = m(input_ids, targets=target_ids)\n",
    "outputs = outputs.unsqueeze(0)\n",
    "probs = F.softmax(outputs, dim=-1)\n",
    "torch.manual_seed(1337)\n",
    "import torchmetrics\n",
    "from torchmetrics.text import Perplexity\n",
    "\n",
    "perp = Perplexity(ignore_index=-100).to(device)\n",
    "perp(outputs, target_ids)\n"
   ]
  },
  {
   "cell_type": "code",
   "execution_count": 67,
   "metadata": {},
   "outputs": [
    {
     "ename": "SyntaxError",
     "evalue": "invalid character '，' (U+FF0C) (406435185.py, line 1)",
     "output_type": "error",
     "traceback": [
      "\u001b[0;36m  Cell \u001b[0;32mIn[67], line 1\u001b[0;36m\u001b[0m\n\u001b[0;31m    冥殿四面牆壁倒不是什麽都没有，只有些打底的壁画，都是白描，还没有进行上色，画的是日月星辰\u001b[0m\n\u001b[0m                  ^\u001b[0m\n\u001b[0;31mSyntaxError\u001b[0m\u001b[0;31m:\u001b[0m invalid character '，' (U+FF0C)\n"
     ]
    }
   ],
   "source": [
    "冥殿四面牆壁倒不是什麽都没有，只有些打底的壁画，都是白描，还没有进行上色，画的是日月星辰\n",
    "\n",
    "该局高度重视，立即组织执法人员对该事件进行调查，对当事摊主进行了问询，摊主已承认其存在缺斤少两行为\n",
    "\n",
    "面自童奶里且平由干笑五浪，禾尺要见姐语绿吗民隻实蝶各、反下反第几她次视亭。\n",
    "\n",
    "崩贴喘灵存匈铸同刃啬曾贝垮邓？敷仰吁左骗盘备。插护，炭泌倒，臭酿层述？"
   ]
  },
  {
   "cell_type": "code",
   "execution_count": null,
   "metadata": {},
   "outputs": [],
   "source": []
  }
 ],
 "metadata": {
  "kernelspec": {
   "display_name": ".venv",
   "language": "python",
   "name": "python3"
  },
  "language_info": {
   "codemirror_mode": {
    "name": "ipython",
    "version": 3
   },
   "file_extension": ".py",
   "mimetype": "text/x-python",
   "name": "python",
   "nbconvert_exporter": "python",
   "pygments_lexer": "ipython3",
   "version": "3.10.13"
  }
 },
 "nbformat": 4,
 "nbformat_minor": 2
}
