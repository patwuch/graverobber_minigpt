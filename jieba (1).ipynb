{
 "cells": [
  {
   "cell_type": "code",
   "execution_count": 1,
   "metadata": {},
   "outputs": [
    {
     "name": "stderr",
     "output_type": "stream",
     "text": [
      "/home/chwu/projects/gptdev/.venv/lib/python3.10/site-packages/tqdm/auto.py:21: TqdmWarning: IProgress not found. Please update jupyter and ipywidgets. See https://ipywidgets.readthedocs.io/en/stable/user_install.html\n",
      "  from .autonotebook import tqdm as notebook_tqdm\n"
     ]
    }
   ],
   "source": [
    "import sklearn, transformers, torch, tqdm, stanza, jieba\n",
    "import numpy as np\n",
    "import pandas as pd"
   ]
  },
  {
   "cell_type": "code",
   "execution_count": 2,
   "metadata": {},
   "outputs": [],
   "source": [
    "with open('grave1.txt', 'r', encoding = \"utf-16\") as file:\n",
    "    grave1 = file.read()\n",
    "with open('grave2.txt', 'r', encoding = \"utf-8\") as file:\n",
    "    grave2 = file.read()\n",
    "with open('grave3.txt', 'r', encoding = \"utf-8\") as file:\n",
    "    grave3 = file.read()\n",
    "with open('grave4.txt', 'r', encoding = \"utf-8\") as file:\n",
    "    grave4 = file.read()\n",
    "with open('grave5.txt', 'r', encoding = \"utf-8\") as file:\n",
    "    grave5 = file.read()\n",
    "with open('grave6.txt', 'r', encoding = \"utf-8\") as file:\n",
    "    grave6 = file.read()\n",
    "with open('grave7.txt', 'r', encoding = \"utf-8\") as file:\n",
    "    grave7 = file.read()\n",
    "with open('grave8.txt', 'r', encoding = \"utf-8\") as file:\n",
    "    grave8 = file.read()\n",
    "with open('grave9.txt', 'r', encoding = \"utf-8\") as file:\n",
    "    grave9 = file.read()\n",
    "    \n",
    "text = grave1+grave2+grave3+grave4+grave5+grave6+grave7+grave8+grave9"
   ]
  },
  {
   "cell_type": "code",
   "execution_count": 3,
   "metadata": {},
   "outputs": [
    {
     "name": "stderr",
     "output_type": "stream",
     "text": [
      "2024-06-08 13:41:23 INFO: Checking for updates to resources.json in case models have been updated.  Note: this behavior can be turned off with download_method=None or download_method=DownloadMethod.REUSE_RESOURCES\n",
      "Downloading https://raw.githubusercontent.com/stanfordnlp/stanza-resources/main/resources_1.8.0.json: 379kB [00:00, 54.9MB/s]                    \n",
      "2024-06-08 13:41:23 INFO: Downloaded file to /home/chwu/stanza_resources/resources.json\n",
      "2024-06-08 13:41:23 INFO: \"zh\" is an alias for \"zh-hans\"\n",
      "2024-06-08 13:41:23 INFO: Loading these models for language: zh-hans (Simplified_Chinese):\n",
      "=======================\n",
      "| Processor | Package |\n",
      "-----------------------\n",
      "| tokenize  | gsdsimp |\n",
      "=======================\n",
      "\n",
      "/home/chwu/projects/gptdev/.venv/lib/python3.10/site-packages/torch/cuda/__init__.py:118: UserWarning: CUDA initialization: The NVIDIA driver on your system is too old (found version 11040). Please update your GPU driver by downloading and installing a new version from the URL: http://www.nvidia.com/Download/index.aspx Alternatively, go to: https://pytorch.org to install a PyTorch version that has been compiled with your version of the CUDA driver. (Triggered internally at ../c10/cuda/CUDAFunctions.cpp:108.)\n",
      "  return torch._C._cuda_getDeviceCount() > 0\n",
      "2024-06-08 13:41:23 WARNING: GPU requested, but is not available!\n",
      "2024-06-08 13:41:23 INFO: Using device: cpu\n",
      "2024-06-08 13:41:23 INFO: Loading: tokenize\n",
      "2024-06-08 13:41:24 INFO: Done loading processors!\n"
     ]
    },
    {
     "name": "stdout",
     "output_type": "stream",
     "text": [
      "[('～～～', 0), ('～', 1), ('小说', 2), ('下载尽', 3), ('在', 4), ('http://www.txt99.com——久久小说下载网附：【本作品来自互联网，本人不做任何负责】内容版权归作者所有!～～～～～～～～～～～～～～～～～～～～～～～～～～～～～～～', 5), ('《', 6), ('七', 7), ('星', 8), ('鲁', 9)]\n",
      "[('误食', 42406), ('生来', 42407), ('肉饵', 42408), ('同日', 42409), ('似无', 42410), ('骗者', 42411), ('堂到', 42412), ('心腹', 42413), ('加以', 42414), ('【全书', 42415)]\n",
      "42416\n"
     ]
    }
   ],
   "source": [
    "import stanza\n",
    "\n",
    "nlp = stanza.Pipeline('zh', use_gpu=True, processors='tokenize')\n",
    "def create_stanza_dict(text):\n",
    "    doc = nlp(text)\n",
    "    tokens = [word.text for sentence in doc.sentences for word in sentence.words]\n",
    "    # Create a dictionary with each token and its corresponding index based on first appearance\n",
    "    token_index_dict = {}\n",
    "    current_order = 0\n",
    "    for token in tokens:\n",
    "        if token not in token_index_dict:\n",
    "            token_index_dict[token] = current_order\n",
    "            current_order += 1\n",
    "    return token_index_dict\n",
    "\n",
    "stanza_dict = create_stanza_dict(text)\n",
    "print(list(stanza_dict.items())[:10])\n",
    "print(list(stanza_dict.items())[-10:])\n",
    "print(len(stanza_dict))\n"
   ]
  },
  {
   "cell_type": "code",
   "execution_count": 4,
   "metadata": {},
   "outputs": [],
   "source": [
    "stanza_stoi = stanza_dict\n",
    "stanza_itos = {index: char for char, index in stanza_dict.items()}\n",
    "encode_stanza = lambda s: [stanza_stoi[c] for c in s if c in stanza_stoi]\n",
    "decode_stanza = lambda l: ''.join([stanza_itos[i] for i in l if i in stanza_itos])"
   ]
  },
  {
   "cell_type": "code",
   "execution_count": 5,
   "metadata": {},
   "outputs": [],
   "source": [
    "import torch\n",
    "stanza_data = torch.tensor(encode_stanza(text), dtype=torch.long)\n",
    "train_data = stanza_data[:int(0.9*len(stanza_data))]\n",
    "val_data = stanza_data[int(0.9*len(stanza_data)):]"
   ]
  },
  {
   "cell_type": "code",
   "execution_count": 37,
   "metadata": {},
   "outputs": [],
   "source": [
    "batch_size = 16 # how many independent sequences will we process in parallel?\n",
    "block_size = 64 # what is the maximum context length for predictions?\n",
    "max_iters = 4000\n",
    "eval_interval = 100\n",
    "learning_rate = 1e-3\n",
    "device = 'cuda' if torch.cuda.is_available() else 'cpu'\n",
    "eval_iters = 200\n",
    "n_embd = 128\n",
    "n_head = 8\n",
    "n_layer = 4\n",
    "dropout = 0.2\n",
    "vocab_size = len(stanza_dict)"
   ]
  },
  {
   "cell_type": "code",
   "execution_count": 7,
   "metadata": {},
   "outputs": [],
   "source": [
    "def get_batch(split):\n",
    "    # generate a small batch of data of inputs x and targets y\n",
    "    data = train_data if split == 'train' else val_data\n",
    "    ix = torch.randint(len(data) - block_size, (batch_size,))\n",
    "    x = torch.stack([data[i:i+block_size] for i in ix])\n",
    "    y = torch.stack([data[i+1:i+block_size+1] for i in ix])\n",
    "    x, y = x.to(device), y.to(device)\n",
    "    return x, y"
   ]
  },
  {
   "cell_type": "code",
   "execution_count": 8,
   "metadata": {},
   "outputs": [],
   "source": [
    "import torch\n",
    "import torch.nn as nn\n",
    "from torch.nn import functional as F\n",
    "torch.manual_seed(1337)\n",
    "\n",
    "@torch.no_grad()\n",
    "def estimate_loss():\n",
    "    out = {}\n",
    "    model.eval()\n",
    "    for split in ['train', 'val']:\n",
    "        losses = torch.zeros(eval_iters)\n",
    "        for k in range(eval_iters):\n",
    "            X, Y = get_batch(split)\n",
    "            logits, loss = model(X, Y)\n",
    "            losses[k] = loss.item()\n",
    "        out[split] = losses.mean()\n",
    "    model.train()\n",
    "    return out"
   ]
  },
  {
   "cell_type": "code",
   "execution_count": 38,
   "metadata": {},
   "outputs": [
    {
     "name": "stdout",
     "output_type": "stream",
     "text": [
      "11.700912 M parameters\n",
      "step 0: train loss 10.8126, val loss 10.8140\n",
      "step 100: train loss 5.8205, val loss 5.8452\n",
      "step 200: train loss 5.2307, val loss 5.2451\n",
      "step 300: train loss 4.9555, val loss 4.9580\n",
      "step 400: train loss 4.7830, val loss 4.8134\n",
      "step 500: train loss 4.6856, val loss 4.7165\n",
      "step 600: train loss 4.6061, val loss 4.6473\n",
      "step 700: train loss 4.5290, val loss 4.5898\n",
      "step 800: train loss 4.4708, val loss 4.5271\n",
      "step 900: train loss 4.4049, val loss 4.4911\n",
      "step 1000: train loss 4.3805, val loss 4.4533\n",
      "step 1100: train loss 4.3411, val loss 4.4254\n",
      "step 1200: train loss 4.3077, val loss 4.4001\n",
      "step 1300: train loss 4.2908, val loss 4.3503\n",
      "step 1400: train loss 4.2580, val loss 4.3406\n",
      "step 1500: train loss 4.2198, val loss 4.3283\n",
      "step 1600: train loss 4.2096, val loss 4.2918\n",
      "step 1700: train loss 4.1814, val loss 4.2827\n",
      "step 1800: train loss 4.1613, val loss 4.2611\n",
      "step 1900: train loss 4.1376, val loss 4.2534\n",
      "step 2000: train loss 4.1179, val loss 4.2469\n",
      "step 2100: train loss 4.0968, val loss 4.2258\n",
      "step 2200: train loss 4.0711, val loss 4.2053\n",
      "step 2300: train loss 4.0722, val loss 4.1861\n",
      "step 2400: train loss 4.0550, val loss 4.1906\n",
      "step 2500: train loss 4.0399, val loss 4.1834\n",
      "step 2600: train loss 4.0345, val loss 4.1257\n",
      "step 2700: train loss 3.9922, val loss 4.1518\n",
      "step 2800: train loss 3.9960, val loss 4.1437\n",
      "step 2900: train loss 3.9814, val loss 4.1441\n",
      "step 3000: train loss 3.9689, val loss 4.1066\n",
      "step 3100: train loss 3.9426, val loss 4.1046\n",
      "step 3200: train loss 3.9407, val loss 4.0817\n",
      "step 3300: train loss 3.9244, val loss 4.0740\n",
      "step 3400: train loss 3.9146, val loss 4.0878\n",
      "step 3500: train loss 3.9243, val loss 4.0650\n",
      "step 3600: train loss 3.9133, val loss 4.0695\n",
      "step 3700: train loss 3.8805, val loss 4.0562\n",
      "step 3800: train loss 3.8734, val loss 4.0480\n",
      "step 3900: train loss 3.8576, val loss 4.0402\n",
      "step 3999: train loss 3.8468, val loss 4.0334\n"
     ]
    }
   ],
   "source": [
    "class Head(nn.Module):\n",
    "    \"\"\" one head of self-attention \"\"\"\n",
    "\n",
    "    def __init__(self, head_size):\n",
    "        super().__init__()\n",
    "        self.key = nn.Linear(n_embd, head_size, bias=False)\n",
    "        self.query = nn.Linear(n_embd, head_size, bias=False)\n",
    "        self.value = nn.Linear(n_embd, head_size, bias=False)\n",
    "        self.register_buffer('tril', torch.tril(torch.ones(block_size, block_size)))\n",
    "\n",
    "        self.dropout = nn.Dropout(dropout)\n",
    "\n",
    "    def forward(self, x):\n",
    "        B,T,C = x.shape\n",
    "        k = self.key(x)   # (B,T,C)\n",
    "        q = self.query(x) # (B,T,C)\n",
    "        # compute attention scores (\"affinities\")\n",
    "        wei = q @ k.transpose(-2,-1) * C**-0.5 # (B, T, C) @ (B, C, T) -> (B, T, T)\n",
    "        wei = wei.masked_fill(self.tril[:T, :T] == 0, float('-inf')) # (B, T, T)\n",
    "        wei = F.softmax(wei, dim=-1) # (B, T, T)\n",
    "        wei = self.dropout(wei)\n",
    "        # perform the weighted aggregation of the values\n",
    "        v = self.value(x) # (B,T,C)\n",
    "        out = wei @ v # (B, T, T) @ (B, T, C) -> (B, T, C)\n",
    "        return out\n",
    "\n",
    "class MultiHeadAttention(nn.Module):\n",
    "    \"\"\" multiple heads of self-attention in parallel \"\"\"\n",
    "\n",
    "    def __init__(self, num_heads, head_size):\n",
    "        super().__init__()\n",
    "        self.heads = nn.ModuleList([Head(head_size) for _ in range(num_heads)])\n",
    "        self.proj = nn.Linear(n_embd, n_embd)\n",
    "        self.dropout = nn.Dropout(dropout)\n",
    "\n",
    "    def forward(self, x):\n",
    "        out = torch.cat([h(x) for h in self.heads], dim=-1)\n",
    "        out = self.dropout(self.proj(out))\n",
    "        return out\n",
    "\n",
    "class FeedFoward(nn.Module):\n",
    "    \"\"\" a simple linear layer followed by a non-linearity \"\"\"\n",
    "\n",
    "    def __init__(self, n_embd):\n",
    "        super().__init__()\n",
    "        self.net = nn.Sequential(\n",
    "            nn.Linear(n_embd, 4 * n_embd),\n",
    "            nn.ReLU(),\n",
    "            nn.Linear(4 * n_embd, n_embd),\n",
    "            nn.Dropout(dropout),\n",
    "        )\n",
    "\n",
    "    def forward(self, x):\n",
    "        return self.net(x)\n",
    "\n",
    "class Block(nn.Module):\n",
    "    \"\"\" Transformer block: communication followed by computation \"\"\"\n",
    "\n",
    "    def __init__(self, n_embd, n_head):\n",
    "        # n_embd: embedding dimension, n_head: the number of heads we'd like\n",
    "        super().__init__()\n",
    "        head_size = n_embd // n_head\n",
    "        self.sa = MultiHeadAttention(n_head, head_size)\n",
    "        self.ffwd = FeedFoward(n_embd)\n",
    "        self.ln1 = nn.LayerNorm(n_embd)\n",
    "        self.ln2 = nn.LayerNorm(n_embd)\n",
    "\n",
    "    def forward(self, x):\n",
    "        x = x + self.sa(self.ln1(x))\n",
    "        x = x + self.ffwd(self.ln2(x))\n",
    "        return x\n",
    "\n",
    "# super simple bigram model\n",
    "class BigramLanguageModel(nn.Module):\n",
    "\n",
    "    def __init__(self):\n",
    "        super().__init__()\n",
    "        # each token directly reads off the logits for the next token from a lookup table\n",
    "        self.token_embedding_table = nn.Embedding(vocab_size, n_embd)\n",
    "        self.position_embedding_table = nn.Embedding(block_size, n_embd)\n",
    "        self.blocks = nn.Sequential(*[Block(n_embd, n_head=n_head) for _ in range(n_layer)])\n",
    "        self.ln_f = nn.LayerNorm(n_embd) # final layer norm\n",
    "        self.lm_head = nn.Linear(n_embd, vocab_size)\n",
    "\n",
    "    def forward(self, idx, targets=None):\n",
    "        B, T = idx.shape\n",
    "\n",
    "        # idx and targets are both (B,T) tensor of integers\n",
    "        tok_emb = self.token_embedding_table(idx) # (B,T,C)\n",
    "        pos_emb = self.position_embedding_table(torch.arange(T, device=device)) # (T,C)\n",
    "        x = tok_emb + pos_emb # (B,T,C)\n",
    "        x = self.blocks(x) # (B,T,C)\n",
    "        x = self.ln_f(x) # (B,T,C)\n",
    "        logits = self.lm_head(x) # (B,T,vocab_size)\n",
    "\n",
    "        if targets is None:\n",
    "            loss = None\n",
    "        else:\n",
    "            B, T, C = logits.shape\n",
    "            logits = logits.view(B*T, C)\n",
    "            targets = targets.view(B*T)\n",
    "            loss = F.cross_entropy(logits, targets)\n",
    "\n",
    "        return logits, loss\n",
    "\n",
    "    def generate(self, idx, max_new_tokens):\n",
    "        # idx is (B, T) array of indices in the current context\n",
    "        for _ in range(max_new_tokens):\n",
    "            # crop idx to the last block_size tokens\n",
    "            idx_cond = idx[:, -block_size:]\n",
    "            # get the predictions\n",
    "            logits, loss = self(idx_cond)\n",
    "            # focus only on the last time step\n",
    "            logits = logits[:, -1, :] # becomes (B, C)\n",
    "            # apply softmax to get probabilities\n",
    "            probs = F.softmax(logits, dim=-1) # (B, C)\n",
    "            # sample from the distribution\n",
    "            idx_next = torch.multinomial(probs, num_samples=1) # (B, 1)\n",
    "            # append sampled index to the running sequence\n",
    "            idx = torch.cat((idx, idx_next), dim=1) # (B, T+1)\n",
    "        return idx\n",
    "\n",
    "model = BigramLanguageModel()\n",
    "m = model.to(device)\n",
    "# print the number of parameters in the model\n",
    "print(sum(p.numel() for p in m.parameters())/1e6, 'M parameters')\n",
    "\n",
    "# create a PyTorch optimizer\n",
    "optimizer = torch.optim.AdamW(model.parameters(), lr=learning_rate)\n",
    "\n",
    "for iter in range(max_iters):\n",
    "\n",
    "    # every once in a while evaluate the loss on train and val sets\n",
    "    if iter % eval_interval == 0 or iter == max_iters - 1:\n",
    "        losses = estimate_loss()\n",
    "        print(f\"step {iter}: train loss {losses['train']:.4f}, val loss {losses['val']:.4f}\")\n",
    "\n",
    "    # sample a batch of data\n",
    "    xb, yb = get_batch('train')\n",
    "\n",
    "    # evaluate the loss\n",
    "    logits, loss = model(xb, yb)\n",
    "    optimizer.zero_grad(set_to_none=True)\n",
    "    loss.backward()\n",
    "    optimizer.step()\n",
    "\n",
    "# generate from the model\n",
    "context = torch.zeros((1, 1), dtype=torch.long, device=device)"
   ]
  },
  {
   "cell_type": "code",
   "execution_count": 40,
   "metadata": {},
   "outputs": [
    {
     "name": "stdout",
     "output_type": "stream",
     "text": [
      "～～～是识的，潘子许我用手。”老痒里问：“我们看他们身光象没么样子，已经被放起了”那片儿，心说骂了几乎要往下换了之前，我一下我想到那只要衣服露出水枪。胖子倒那老。几乎高加索我一楞是以前一般，然后打了她就烧酒死了，嘴巴，我们全飞了下来，里面上对我们半略道：“你们得和阿宁怎么回事儿，咱们只能拍了！”他指了指胖子放下给看他们？如果和你们高采的挖了，毕外面他两句话算着玩，所以她能容易都越没有话，差他让做的事情和他说大，你的是是么老人。”凉师这事情也不是自己京矿，那些墓室的乌大，每灵这上一群，我又不说，千万一场几种马大往队的时就被人把我绑住起潘子，脸上全部的画上装备，全部跟营，看到那些方面肝迫起了树后透探灯的\n"
     ]
    }
   ],
   "source": [
    "print(decode_stanza(m.generate(context, max_new_tokens=300)[0].tolist()))"
   ]
  },
  {
   "cell_type": "code",
   "execution_count": 30,
   "metadata": {},
   "outputs": [
    {
     "data": {
      "text/plain": [
       "tensor(962.5798)"
      ]
     },
     "execution_count": 30,
     "metadata": {},
     "output_type": "execute_result"
    }
   ],
   "source": [
    "test1 = '冥殿四面牆壁倒不是什麽都没有，只有些打底的壁画，都是白描，还没有进行上色，画的是日月星辰。'\n",
    "\n",
    "test2 = \"该局高度重视，立即组织执法人员对该事件进行调查，对当事摊主进行了问询，摊主已承认其存在缺斤少两行为。\"\n",
    "\n",
    "test3 = \"面自童奶里且平由干笑五浪，禾尺要见姐语绿吗民隻实蝶各、反下反第几她次视亭。\"\n",
    "\n",
    "test4 = \"崩贴喘灵存匈铸同刃啬曾贝垮邓？敷仰吁左骗盘备。插护，炭泌倒，臭酿层述？\"\n",
    "\n",
    "encodings = torch.tensor(encode_stanza(test1), dtype=torch.long).unsqueeze(0).to(device)\n",
    "input_ids = encodings[:, 0:block_size].to(device)\n",
    "target_ids = input_ids.clone()\n",
    "with torch.no_grad():\n",
    "  outputs, loss = m(input_ids, targets=target_ids)\n",
    "outputs = outputs.unsqueeze(0)\n",
    "probs = F.softmax(outputs, dim=-1)\n",
    "torch.manual_seed(1337)\n",
    "import torchmetrics\n",
    "from torchmetrics.text import Perplexity\n",
    "\n",
    "perp = Perplexity(ignore_index=-100).to(device)\n",
    "perp(outputs, target_ids)\n"
   ]
  },
  {
   "cell_type": "code",
   "execution_count": 34,
   "metadata": {},
   "outputs": [
    {
     "data": {
      "text/plain": [
       "[76982, 91077, 45736, 27479, 30358, 58552]"
      ]
     },
     "execution_count": 34,
     "metadata": {},
     "output_type": "execute_result"
    }
   ],
   "source": [
    "import tiktoken\n",
    "\n",
    "encoding = tiktoken.encoding_for_model(\"gpt-3.5-turbo\")\n",
    "\n",
    "encoding.encode(\"该局高度重视\")"
   ]
  },
  {
   "cell_type": "code",
   "execution_count": 35,
   "metadata": {},
   "outputs": [
    {
     "data": {
      "text/plain": [
       "'该'"
      ]
     },
     "execution_count": 35,
     "metadata": {},
     "output_type": "execute_result"
    }
   ],
   "source": [
    "encoding.decode([76982])"
   ]
  },
  {
   "cell_type": "code",
   "execution_count": null,
   "metadata": {},
   "outputs": [],
   "source": []
  }
 ],
 "metadata": {
  "kernelspec": {
   "display_name": ".venv",
   "language": "python",
   "name": "python3"
  },
  "language_info": {
   "codemirror_mode": {
    "name": "ipython",
    "version": 3
   },
   "file_extension": ".py",
   "mimetype": "text/x-python",
   "name": "python",
   "nbconvert_exporter": "python",
   "pygments_lexer": "ipython3",
   "version": "3.10.13"
  }
 },
 "nbformat": 4,
 "nbformat_minor": 2
}
